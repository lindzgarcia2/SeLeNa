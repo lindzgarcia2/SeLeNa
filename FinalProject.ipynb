import time
from pynq import Overlay
from pynq.board import LED
from pynq.board import RGBLED
from pynq.board import Switch
from pynq.board import Button
from pynq.iop import PMODA

MAX_LEDS = 4
MAX_SWITCHES = 2
MAX_BUTTONS = 4

leds = [0] * MAX_LEDS
switches = [0] * MAX_SWITCHES
rgbled= [0] * MAX_SWITCHES
buttons = [0] * MAX_BUTTONS


for i in range(MAX_LEDS):
    leds[i] = LED(i)              
for i in range(MAX_SWITCHES):
    switches[i] = Switch(i)
    rgbled[i]=RGBLED(i+4)
for i in range(MAX_BUTTONS):
    buttons[i] = Button(i) 

# Helper function to clear LEDs
def clear_LEDs(LED_nos=list(range(MAX_LEDS))):
    """Clear LEDS LD3-0 or the LEDs whose numbers appear in the list"""
    for i in LED_nos:
        leds[i].off()
        rgbled[i%2].off()
while not((switches[0].read()) and (switches[1].read())):
    while ((not(switches[0].read())) and (not(switches[1].read()))):
        for i in range(MAX_LEDS):
            if(change==0):
                if buttons[i].read():
                    leds[i].on()
                    change=i
            elif(change!=0):
                i=change
                if buttons[i].read():
                    leds[i].on()
    if(switches[0].read()):
        for i in range(2):
            rgbled[i].on(1)
    elif(switches[1].read()):
        for i in range(2):
            rgbled[i].on(4)
    clear_LEDs()
